{
 "cells": [
  {
   "cell_type": "markdown",
   "id": "ed1287ec",
   "metadata": {},
   "source": [
    "# OpenAI SDK framework to create Multiple agents collaborating together"
   ]
  },
  {
   "cell_type": "markdown",
   "id": "d7a094e0",
   "metadata": {},
   "source": [
    "![Alt text](Robots.jpg)"
   ]
  },
  {
   "cell_type": "code",
   "execution_count": 16,
   "id": "9e4f217b",
   "metadata": {},
   "outputs": [],
   "source": [
    "# Import all libraries\n",
    "from dotenv import load_dotenv\n",
    "import os\n",
    "\n",
    "load_dotenv()\n",
    "\n",
    "api_key = os.getenv(\"OPENAI_API_KEY\")\n",
    "import asyncio\n",
    "from openai import OpenAI,AsyncOpenAI\n",
    "from agents import Agent, Runner, OpenAIChatCompletionsModel, WebSearchTool\n",
    "\n",
    "openai=OpenAI(api_key=api_key)"
   ]
  },
  {
   "cell_type": "code",
   "execution_count": 24,
   "id": "ca3a81fa",
   "metadata": {
    "scrolled": true
   },
   "outputs": [],
   "source": [
    "# Greate Agents\n",
    "\n",
    "# Create Summary Agents that produces summary sentences\n",
    "summary_agent = Agent(\n",
    "    name=\"Summarizer\",\n",
    "    instructions=\"You provide summary - 2-3 sentences of the tech articles or product launches\",\n",
    "    model=OpenAIChatCompletionsModel(\n",
    "    model=\"gpt-4o-mini\",\n",
    "    openai_client=AsyncOpenAI()\n",
    "    )\n",
    ")\n",
    "\n",
    "# Create Outline Agents that produces outlines\n",
    "outline_agent = Agent(\n",
    "    name=\"Outliner\",\n",
    "    instructions=\"\"\"Generate a single or multiple on the input. \n",
    "    Each outline should have its own topic and a list that is related to the topic. \n",
    "    The list can be displayed using bullet points or emojis befoe each item.\"\"\",\n",
    "    model=OpenAIChatCompletionsModel(\n",
    "    model=\"gpt-4o-mini\",\n",
    "    openai_client=AsyncOpenAI()\n",
    "    )\n",
    ")\n",
    "\n",
    "# Create checker agent that checks output from summary agent and outline agent\n",
    "checker_agent = Agent(\n",
    "    name=\"Checker\",\n",
    "    instructions=\"\"\"Read the given summary and the outline.You can combine them and access if it is of good quality.\n",
    "    if it passes the quality check, return both the summary and outline combined to a single post. \n",
    "    If it doesn't pass the quality check, just return the feedback\"\"\",\n",
    "    model=OpenAIChatCompletionsModel(\n",
    "    model=\"gpt-4o-mini\",\n",
    "    openai_client=AsyncOpenAI()\n",
    "    )\n",
    ")\n",
    "\n",
    "# result = await Runner.run(outline_agent, \"The topic is overview of Agentic Workflow\")\n",
    "# print(result.final_output)"
   ]
  },
  {
   "cell_type": "code",
   "execution_count": 27,
   "id": "2b869b1a",
   "metadata": {},
   "outputs": [
    {
     "name": "stdout",
     "output_type": "stream",
     "text": [
      "### Overview of Private Health Insurance in Australia\n",
      "\n",
      "Private health insurance in Australia is designed to complement the public healthcare system, known as Medicare, offering coverage for services not fully paid by the government. It provides various plans that can cover hospital stays, medical services, and ancillary treatments like dental and physiotherapy, allowing individuals to access a broader range of healthcare options. The market features a mix of government incentives and regulations aimed at encouraging citizens to take up private insurance, thereby alleviating pressure on public hospitals.\n",
      "\n",
      "- 🇦🇺 **Types of Private Health Insurance**\n",
      "  - Hospital cover\n",
      "  - Extras cover\n",
      "  - Combined cover\n",
      "\n",
      "- 📜 **Regulatory Framework**\n",
      "  - Australian Government regulations\n",
      "  - Private Health Insurance Ombudsman\n",
      "  - Health Insurance Act 1973\n",
      "\n",
      "- 💰 **Financial Aspects**\n",
      "  - Premium costs\n",
      "  - Government subsidies (e.g., Private Health Insurance Rebate)\n",
      "  - Lifetime Health Coverage loading\n",
      "\n",
      "- ✅ **Benefits of Private Health Insurance**\n",
      "  - Shorter waiting times for elective procedures\n",
      "  - Greater choice of healthcare providers and hospitals\n",
      "  - Coverage for services not included in Medicare (e.g., dental, physiotherapy)\n",
      "\n",
      "- 🏥 **Common Providers**\n",
      "  - Medibank\n",
      "  - Bupa\n",
      "  - HCF\n",
      "  - NIB\n",
      "\n",
      "- 🧾 **Considerations for Choosing a Plan**\n",
      "  - Coverage limits and exclusions\n",
      "  - Gap payments\n",
      "  - Network of preferred providers\n",
      "\n",
      "- 📈 **Current Trends in Private Health Insurance**\n",
      "  - Increasing premium costs\n",
      "  - Shift toward wellness and preventive care\n",
      "  - Impact of COVID-19 on health insurance policies and usage \n",
      "\n",
      "- 🌍 **International Comparisons**\n",
      "  - Differences in private health insurance models globally\n",
      "  - Influence of public healthcare systems on private insurance uptake\n"
     ]
    }
   ],
   "source": [
    "# Summary Agent and outline agent will pass information to Checker agent for quality control, and checker agent will produce \n",
    "# final result\n",
    "\n",
    "from agents import trace\n",
    "\n",
    "async def main():\n",
    "    # Type the topic below\n",
    "    input_prompt =\"The topic is overview of Private health insurance in Australia\"\n",
    "    with trace(\"Deterministic post creation flow\"):\n",
    "        # Generate a summary\n",
    "        summary_result = await Runner.run(\n",
    "            summary_agent,\n",
    "            input_prompt\n",
    "        )\n",
    "        #Generate an outline\n",
    "        outline_result = await Runner.run(\n",
    "            outline_agent,\n",
    "            input_prompt\n",
    "        )\n",
    "        # Generate the final output\n",
    "        checker_result = await Runner.run(\n",
    "            checker_agent,\n",
    "            f\"summary: {summary_result.final_output} , outline: {outline_result.final_output}\"\n",
    "        )\n",
    "        print(checker_result.final_output)\n",
    "\n",
    "await main()"
   ]
  }
 ],
 "metadata": {
  "kernelspec": {
   "display_name": "Python 3 (ipykernel)",
   "language": "python",
   "name": "python3"
  },
  "language_info": {
   "codemirror_mode": {
    "name": "ipython",
    "version": 3
   },
   "file_extension": ".py",
   "mimetype": "text/x-python",
   "name": "python",
   "nbconvert_exporter": "python",
   "pygments_lexer": "ipython3",
   "version": "3.11.4"
  }
 },
 "nbformat": 4,
 "nbformat_minor": 5
}
